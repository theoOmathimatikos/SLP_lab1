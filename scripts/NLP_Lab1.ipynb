{
 "cells": [
  {
   "cell_type": "code",
   "execution_count": null,
   "metadata": {},
   "outputs": [],
   "source": [
    "from word_frequencies import value_counts\n",
    "from nltk.corpus import reuters\n",
    "import nltk"
   ]
  },
  {
   "cell_type": "code",
   "execution_count": null,
   "metadata": {},
   "outputs": [],
   "source": [
    "reuters_words = reuters.words()\n",
    "filtered_words = []\n",
    "\n",
    "for i in range(len(reuters_words)):\n",
    "\n",
    "    if (len(reuters_words[i]) == 1):\n",
    "\n",
    "        if (reuters_words[i+1] == '.') and (len(reuters_words[i+2]) == 1):\n",
    "            j = i+2\n",
    "            temp = []\n",
    "\n",
    "            temp.extend([reuters_words[i], reuters_words[i+1], reuters_words[i+2]])\n",
    "\n",
    "            while (reuters_words[j+1] == '.') and (len(reuters_words[j+2]) == 1):\n",
    "                \n",
    "                temp.extend([reuters_words[j], reuters_words[j+1], reuters_words[j+2]])\n",
    "\n",
    "                j += 1\n",
    "            filtered_words.append(''.join(temp))\n",
    "\n",
    "    else:\n",
    "        filtered_words.append(reuters_words[i])\n",
    "\n",
    "\n",
    "filtered_words[5:]"
   ]
  },
  {
   "cell_type": "code",
   "execution_count": null,
   "metadata": {},
   "outputs": [],
   "source": [
    "reuters.sents()"
   ]
  },
  {
   "cell_type": "code",
   "execution_count": null,
   "metadata": {},
   "outputs": [],
   "source": [
    "import re\n",
    "\n",
    "raw = nltk.corpus.__getattr__('reuters').raw()\n",
    "\n",
    "raw"
   ]
  },
  {
   "cell_type": "code",
   "execution_count": null,
   "metadata": {},
   "outputs": [],
   "source": []
  },
  {
   "cell_type": "code",
   "execution_count": null,
   "metadata": {},
   "outputs": [],
   "source": []
  },
  {
   "cell_type": "code",
   "execution_count": null,
   "metadata": {},
   "outputs": [],
   "source": [
    "with open('preprocessed_words.txt', 'a') as f:\n",
    "\n",
    "    for word in filtered_words:\n",
    "        f.write(word)\n",
    "        f.write(' \\n')"
   ]
  },
  {
   "cell_type": "code",
   "execution_count": null,
   "metadata": {},
   "outputs": [],
   "source": [
    "import numpy as np\n",
    "import os"
   ]
  },
  {
   "cell_type": "code",
   "execution_count": null,
   "metadata": {},
   "outputs": [],
   "source": [
    "cwd = os.getcwd()\n",
    "i = 0\n",
    "with open(os.path.join(cwd, '../' + 'data/spell_test.txt'), 'r') as g:\n",
    "\n",
    "    for word in g:\n",
    "        i += 1    \n",
    "        wrong_words = word.split(':')[1]\n",
    "\n",
    "        for word in wrong_words:\n",
    "            \n",
    "            os.system('echo word')\n",
    "\n"
   ]
  },
  {
   "cell_type": "code",
   "execution_count": 38,
   "metadata": {},
   "outputs": [],
   "source": [
    "from collections import Counter\n",
    "\n",
    "with open(os.getcwd() + '/edits.txt', 'r+') as f:\n",
    "    lines = f.readlines()\n",
    "\n",
    "lines = [(line.strip()).replace('\\t', ' ') for line in lines]\n",
    "\n",
    "count = Counter(lines)\n",
    "del count['']\n",
    "count\n",
    "\n",
    "total_freq = sum(count.values())\n",
    "\n",
    "count = dict([(key, np.round(value/total_freq, 4)) for key, value in count.items()])\n",
    "\n",
    "with open((os.getcwd() + '/edits_freq.txt'), 'w+')as g:\n",
    "\n",
    "    for key in count:\n",
    "        \n",
    "        g.write(str(key))\n",
    "        g.write(' ')\n",
    "        g.write(str(count[key]))\n",
    "        g.write('\\n')\n",
    "\n"
   ]
  }
 ],
 "metadata": {
  "interpreter": {
   "hash": "eb69529d37963f8bfd661cb8fb8389f73d4fb6e7aebdc2767157b0dda35cb869"
  },
  "kernelspec": {
   "display_name": "Python 3.8.5 ('NLPEnv')",
   "language": "python",
   "name": "python3"
  },
  "language_info": {
   "codemirror_mode": {
    "name": "ipython",
    "version": 3
   },
   "file_extension": ".py",
   "mimetype": "text/x-python",
   "name": "python",
   "nbconvert_exporter": "python",
   "pygments_lexer": "ipython3",
   "version": "3.8.5"
  },
  "orig_nbformat": 4
 },
 "nbformat": 4,
 "nbformat_minor": 2
}
